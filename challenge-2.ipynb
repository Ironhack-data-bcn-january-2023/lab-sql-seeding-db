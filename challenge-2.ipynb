{
 "cells": [
  {
   "cell_type": "markdown",
   "id": "f2a639e9",
   "metadata": {},
   "source": [
    "# load a `csv` file into sql"
   ]
  },
  {
   "cell_type": "markdown",
   "id": "873a6b38",
   "metadata": {},
   "source": [
    "### Import the necessary libraries"
   ]
  },
  {
   "cell_type": "code",
   "execution_count": 2,
   "id": "1fd77601",
   "metadata": {},
   "outputs": [],
   "source": [
    "import pymysql\n",
    "import sqlalchemy as alch # python -m pip install --upgrade 'sqlalchemy<2.0'\n",
    "from getpass import getpass\n",
    "import pandas as pd"
   ]
  },
  {
   "cell_type": "markdown",
   "id": "30f284e8",
   "metadata": {},
   "source": [
    "### Load the dataframe into pandas: call it `df_csv`"
   ]
  },
  {
   "cell_type": "code",
   "execution_count": null,
   "id": "8f7e2395",
   "metadata": {},
   "outputs": [],
   "source": []
  },
  {
   "cell_type": "markdown",
   "id": "7caf48a6",
   "metadata": {},
   "source": [
    "### Query the table and save it into a dataframe from Notebooks: call it `df_sql`"
   ]
  },
  {
   "cell_type": "code",
   "execution_count": 3,
   "id": "0da07085",
   "metadata": {},
   "outputs": [],
   "source": [
    "# :)"
   ]
  },
  {
   "cell_type": "markdown",
   "id": "92c5c6ba",
   "metadata": {},
   "source": [
    "### Append the following row to the dataframe"
   ]
  },
  {
   "cell_type": "code",
   "execution_count": null,
   "id": "3e4e2276",
   "metadata": {},
   "outputs": [],
   "source": [
    "new_row = {\n",
    "    \"names\": \"New Balance 327\",\n",
    "    \"brand\": \"NEW BALANCE\" ,\n",
    "    \"price\": \"79.95\",\n",
    "    \"links\": \"https://www.murallasport.com/producto/5578-zapatilla-converse-lift\"\n",
    "}"
   ]
  },
  {
   "cell_type": "markdown",
   "id": "1a572072",
   "metadata": {},
   "source": [
    "### Modify the `load_into_db` function to load `df_csv`: do it avoiding the insertion of duplicates. Choose one of the following methods:"
   ]
  },
  {
   "cell_type": "markdown",
   "id": "3d09aa38",
   "metadata": {},
   "source": [
    "`through python`"
   ]
  },
  {
   "cell_type": "code",
   "execution_count": null,
   "id": "a06c0b82",
   "metadata": {},
   "outputs": [],
   "source": [
    "# 1. Get the first element of the table\n",
    "# 2. Create a query where you select that item from the table\n",
    "# 3. Parametrize that query formatting the string\n",
    "# 4. After the query is parametrized, loop the dataframe to select every row from df_csv on the database\n",
    "# 5. By reading the result of the query, you should see if it exits or it doesn't"
   ]
  },
  {
   "cell_type": "markdown",
   "id": "da59f047",
   "metadata": {},
   "source": [
    "`through SQL syntax`"
   ]
  },
  {
   "cell_type": "code",
   "execution_count": 2,
   "id": "307de72b",
   "metadata": {},
   "outputs": [],
   "source": [
    "# 1. INSERT what you want to insert\n",
    "# 2. WHERE what you want to insert\n",
    "# 3. Is not found on a subquery \n",
    "    # 4. Where you select"
   ]
  },
  {
   "cell_type": "code",
   "execution_count": null,
   "id": "0f6892da",
   "metadata": {},
   "outputs": [],
   "source": []
  }
 ],
 "metadata": {
  "kernelspec": {
   "display_name": "ironhack",
   "language": "python",
   "name": "ironhack"
  },
  "language_info": {
   "codemirror_mode": {
    "name": "ipython",
    "version": 3
   },
   "file_extension": ".py",
   "mimetype": "text/x-python",
   "name": "python",
   "nbconvert_exporter": "python",
   "pygments_lexer": "ipython3",
   "version": "3.8.13"
  },
  "toc": {
   "base_numbering": 1,
   "nav_menu": {},
   "number_sections": true,
   "sideBar": true,
   "skip_h1_title": false,
   "title_cell": "Table of Contents",
   "title_sidebar": "Contents",
   "toc_cell": false,
   "toc_position": {},
   "toc_section_display": true,
   "toc_window_display": false
  }
 },
 "nbformat": 4,
 "nbformat_minor": 5
}
